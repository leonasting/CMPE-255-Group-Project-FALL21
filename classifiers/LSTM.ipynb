{
  "nbformat": 4,
  "nbformat_minor": 0,
  "metadata": {
    "kernelspec": {
      "display_name": "Python 3",
      "language": "python",
      "name": "python3"
    },
    "language_info": {
      "codemirror_mode": {
        "name": "ipython",
        "version": 3
      },
      "file_extension": ".py",
      "mimetype": "text/x-python",
      "name": "python",
      "nbconvert_exporter": "python",
      "pygments_lexer": "ipython3",
      "version": "3.6.8"
    },
    "colab": {
      "name": "LSTM.ipynb",
      "provenance": []
    },
    "accelerator": "GPU"
  },
  "cells": [
    {
      "cell_type": "code",
      "metadata": {
        "colab": {
          "base_uri": "https://localhost:8080/"
        },
        "id": "PebLYPO9ZNHa",
        "outputId": "436ab87e-0ff1-46b5-cc66-e07014cffb00"
      },
      "source": [
        "#Mounting the google drive to colab\n",
        "from google.colab import drive\n",
        "drive.mount('/content/drive')"
      ],
      "execution_count": null,
      "outputs": [
        {
          "output_type": "stream",
          "name": "stdout",
          "text": [
            "Mounted at /content/drive\n"
          ]
        }
      ]
    },
    {
      "cell_type": "code",
      "metadata": {
        "colab": {
          "base_uri": "https://localhost:8080/"
        },
        "id": "LEB-Az6ZZGdx",
        "outputId": "8818e080-0560-4b58-cc8d-f92f6308d3b4"
      },
      "source": [
        "ls"
      ],
      "execution_count": null,
      "outputs": [
        {
          "output_type": "stream",
          "name": "stdout",
          "text": [
            "\u001b[0m\u001b[01;34mdrive\u001b[0m/  \u001b[01;34msample_data\u001b[0m/\n"
          ]
        }
      ]
    },
    {
      "cell_type": "code",
      "metadata": {
        "colab": {
          "base_uri": "https://localhost:8080/"
        },
        "id": "vZUl45b8ZGgj",
        "outputId": "9d5e9306-37a7-4331-cf9b-a7966bc32608"
      },
      "source": [
        "cd drive/"
      ],
      "execution_count": null,
      "outputs": [
        {
          "output_type": "stream",
          "name": "stdout",
          "text": [
            "/content/drive\n"
          ]
        }
      ]
    },
    {
      "cell_type": "code",
      "metadata": {
        "colab": {
          "base_uri": "https://localhost:8080/"
        },
        "id": "EWC_Mkz6ZGjl",
        "outputId": "e1acf10c-e4bc-42e9-b00a-d49c894743b3"
      },
      "source": [
        "cd MyDrive/"
      ],
      "execution_count": null,
      "outputs": [
        {
          "output_type": "stream",
          "name": "stdout",
          "text": [
            "/content/drive/MyDrive\n"
          ]
        }
      ]
    },
    {
      "cell_type": "code",
      "metadata": {
        "colab": {
          "base_uri": "https://localhost:8080/"
        },
        "id": "HZouD2mIZGmi",
        "outputId": "f366dfbf-6b27-407f-d453-ecbbaa6a6adc"
      },
      "source": [
        "cd CMPE-255-Group-Project-FALL21/"
      ],
      "execution_count": null,
      "outputs": [
        {
          "output_type": "stream",
          "name": "stdout",
          "text": [
            "/content/drive/MyDrive/CMPE-255-Group-Project-FALL21\n"
          ]
        }
      ]
    },
    {
      "cell_type": "code",
      "metadata": {
        "colab": {
          "base_uri": "https://localhost:8080/"
        },
        "id": "AJ5shdb2ZGpU",
        "outputId": "129bbec1-622f-48f6-d4ff-c49e4ac28408"
      },
      "source": [
        "ls"
      ],
      "execution_count": null,
      "outputs": [
        {
          "output_type": "stream",
          "name": "stdout",
          "text": [
            " \u001b[0m\u001b[01;34mclassifiers\u001b[0m/   dl.ipynb                  README.md\n",
            " \u001b[01;34mdata\u001b[0m/         \u001b[01;34m'Project Documentation'\u001b[0m/   \u001b[01;34mVectorizers\u001b[0m/\n"
          ]
        }
      ]
    },
    {
      "cell_type": "code",
      "metadata": {
        "id": "SnoGdOK-ZEPD"
      },
      "source": [
        "\n",
        "#Importing the libraries\n",
        "import pandas as pd \n",
        "import tensorflow as tf\n",
        "from tensorflow import keras\n",
        "import numpy as np \n",
        "import matplotlib.pyplot as plt\n",
        "import os\n",
        "\n",
        "from tensorflow.keras.preprocessing.text import Tokenizer\n",
        "from tensorflow.keras.preprocessing.sequence import pad_sequences\n",
        "from sklearn.model_selection import train_test_split\n",
        "from sklearn.metrics import classification_report, confusion_matrix\n",
        "from tensorflow.keras.layers import Embedding\n",
        "import seaborn as sns"
      ],
      "execution_count": null,
      "outputs": []
    },
    {
      "cell_type": "code",
      "metadata": {
        "id": "U3dn5HRZY_Y_"
      },
      "source": [
        "#reading the dataset\n",
        "data = pd.read_json('./data/News_Category_Dataset_v2.json', lines=True)"
      ],
      "execution_count": null,
      "outputs": []
    },
    {
      "cell_type": "code",
      "metadata": {
        "colab": {
          "base_uri": "https://localhost:8080/",
          "height": 614
        },
        "id": "FBfdMJKUY_ZA",
        "outputId": "6d4e1285-e63e-494b-cd2a-09565ab049a6"
      },
      "source": [
        "data"
      ],
      "execution_count": null,
      "outputs": [
        {
          "output_type": "execute_result",
          "data": {
            "text/html": [
              "<div>\n",
              "<style scoped>\n",
              "    .dataframe tbody tr th:only-of-type {\n",
              "        vertical-align: middle;\n",
              "    }\n",
              "\n",
              "    .dataframe tbody tr th {\n",
              "        vertical-align: top;\n",
              "    }\n",
              "\n",
              "    .dataframe thead th {\n",
              "        text-align: right;\n",
              "    }\n",
              "</style>\n",
              "<table border=\"1\" class=\"dataframe\">\n",
              "  <thead>\n",
              "    <tr style=\"text-align: right;\">\n",
              "      <th></th>\n",
              "      <th>category</th>\n",
              "      <th>headline</th>\n",
              "      <th>authors</th>\n",
              "      <th>link</th>\n",
              "      <th>short_description</th>\n",
              "      <th>date</th>\n",
              "    </tr>\n",
              "  </thead>\n",
              "  <tbody>\n",
              "    <tr>\n",
              "      <th>0</th>\n",
              "      <td>CRIME</td>\n",
              "      <td>There Were 2 Mass Shootings In Texas Last Week...</td>\n",
              "      <td>Melissa Jeltsen</td>\n",
              "      <td>https://www.huffingtonpost.com/entry/texas-ama...</td>\n",
              "      <td>She left her husband. He killed their children...</td>\n",
              "      <td>2018-05-26</td>\n",
              "    </tr>\n",
              "    <tr>\n",
              "      <th>1</th>\n",
              "      <td>ENTERTAINMENT</td>\n",
              "      <td>Will Smith Joins Diplo And Nicky Jam For The 2...</td>\n",
              "      <td>Andy McDonald</td>\n",
              "      <td>https://www.huffingtonpost.com/entry/will-smit...</td>\n",
              "      <td>Of course it has a song.</td>\n",
              "      <td>2018-05-26</td>\n",
              "    </tr>\n",
              "    <tr>\n",
              "      <th>2</th>\n",
              "      <td>ENTERTAINMENT</td>\n",
              "      <td>Hugh Grant Marries For The First Time At Age 57</td>\n",
              "      <td>Ron Dicker</td>\n",
              "      <td>https://www.huffingtonpost.com/entry/hugh-gran...</td>\n",
              "      <td>The actor and his longtime girlfriend Anna Ebe...</td>\n",
              "      <td>2018-05-26</td>\n",
              "    </tr>\n",
              "    <tr>\n",
              "      <th>3</th>\n",
              "      <td>ENTERTAINMENT</td>\n",
              "      <td>Jim Carrey Blasts 'Castrato' Adam Schiff And D...</td>\n",
              "      <td>Ron Dicker</td>\n",
              "      <td>https://www.huffingtonpost.com/entry/jim-carre...</td>\n",
              "      <td>The actor gives Dems an ass-kicking for not fi...</td>\n",
              "      <td>2018-05-26</td>\n",
              "    </tr>\n",
              "    <tr>\n",
              "      <th>4</th>\n",
              "      <td>ENTERTAINMENT</td>\n",
              "      <td>Julianna Margulies Uses Donald Trump Poop Bags...</td>\n",
              "      <td>Ron Dicker</td>\n",
              "      <td>https://www.huffingtonpost.com/entry/julianna-...</td>\n",
              "      <td>The \"Dietland\" actress said using the bags is ...</td>\n",
              "      <td>2018-05-26</td>\n",
              "    </tr>\n",
              "    <tr>\n",
              "      <th>...</th>\n",
              "      <td>...</td>\n",
              "      <td>...</td>\n",
              "      <td>...</td>\n",
              "      <td>...</td>\n",
              "      <td>...</td>\n",
              "      <td>...</td>\n",
              "    </tr>\n",
              "    <tr>\n",
              "      <th>200848</th>\n",
              "      <td>TECH</td>\n",
              "      <td>RIM CEO Thorsten Heins' 'Significant' Plans Fo...</td>\n",
              "      <td>Reuters, Reuters</td>\n",
              "      <td>https://www.huffingtonpost.com/entry/rim-ceo-t...</td>\n",
              "      <td>Verizon Wireless and AT&amp;T are already promotin...</td>\n",
              "      <td>2012-01-28</td>\n",
              "    </tr>\n",
              "    <tr>\n",
              "      <th>200849</th>\n",
              "      <td>SPORTS</td>\n",
              "      <td>Maria Sharapova Stunned By Victoria Azarenka I...</td>\n",
              "      <td></td>\n",
              "      <td>https://www.huffingtonpost.com/entry/maria-sha...</td>\n",
              "      <td>Afterward, Azarenka, more effusive with the pr...</td>\n",
              "      <td>2012-01-28</td>\n",
              "    </tr>\n",
              "    <tr>\n",
              "      <th>200850</th>\n",
              "      <td>SPORTS</td>\n",
              "      <td>Giants Over Patriots, Jets Over Colts Among  M...</td>\n",
              "      <td></td>\n",
              "      <td>https://www.huffingtonpost.com/entry/super-bow...</td>\n",
              "      <td>Leading up to Super Bowl XLVI, the most talked...</td>\n",
              "      <td>2012-01-28</td>\n",
              "    </tr>\n",
              "    <tr>\n",
              "      <th>200851</th>\n",
              "      <td>SPORTS</td>\n",
              "      <td>Aldon Smith Arrested: 49ers Linebacker Busted ...</td>\n",
              "      <td></td>\n",
              "      <td>https://www.huffingtonpost.com/entry/aldon-smi...</td>\n",
              "      <td>CORRECTION: An earlier version of this story i...</td>\n",
              "      <td>2012-01-28</td>\n",
              "    </tr>\n",
              "    <tr>\n",
              "      <th>200852</th>\n",
              "      <td>SPORTS</td>\n",
              "      <td>Dwight Howard Rips Teammates After Magic Loss ...</td>\n",
              "      <td></td>\n",
              "      <td>https://www.huffingtonpost.com/entry/dwight-ho...</td>\n",
              "      <td>The five-time all-star center tore into his te...</td>\n",
              "      <td>2012-01-28</td>\n",
              "    </tr>\n",
              "  </tbody>\n",
              "</table>\n",
              "<p>200853 rows × 6 columns</p>\n",
              "</div>"
            ],
            "text/plain": [
              "             category  ...       date\n",
              "0               CRIME  ... 2018-05-26\n",
              "1       ENTERTAINMENT  ... 2018-05-26\n",
              "2       ENTERTAINMENT  ... 2018-05-26\n",
              "3       ENTERTAINMENT  ... 2018-05-26\n",
              "4       ENTERTAINMENT  ... 2018-05-26\n",
              "...               ...  ...        ...\n",
              "200848           TECH  ... 2012-01-28\n",
              "200849         SPORTS  ... 2012-01-28\n",
              "200850         SPORTS  ... 2012-01-28\n",
              "200851         SPORTS  ... 2012-01-28\n",
              "200852         SPORTS  ... 2012-01-28\n",
              "\n",
              "[200853 rows x 6 columns]"
            ]
          },
          "metadata": {},
          "execution_count": 9
        }
      ]
    },
    {
      "cell_type": "markdown",
      "source": [
        "                                                            # Data Cleaning\n"
      ],
      "metadata": {
        "id": "PSV7NKQi49iW"
      }
    },
    {
      "cell_type": "code",
      "metadata": {
        "id": "9q_Kt0o5Y_ZB"
      },
      "source": [
        "data.drop(['authors', 'link', 'date'], axis = 1, inplace = True) #dropping the authors,link and date columns as they are not useful"
      ],
      "execution_count": null,
      "outputs": []
    },
    {
      "cell_type": "code",
      "metadata": {
        "colab": {
          "base_uri": "https://localhost:8080/",
          "height": 423
        },
        "id": "P8Fz3F_SY_ZB",
        "outputId": "515e06d6-ea2e-4301-85a2-d3541b8d0243"
      },
      "source": [
        "data"
      ],
      "execution_count": null,
      "outputs": [
        {
          "output_type": "execute_result",
          "data": {
            "text/html": [
              "<div>\n",
              "<style scoped>\n",
              "    .dataframe tbody tr th:only-of-type {\n",
              "        vertical-align: middle;\n",
              "    }\n",
              "\n",
              "    .dataframe tbody tr th {\n",
              "        vertical-align: top;\n",
              "    }\n",
              "\n",
              "    .dataframe thead th {\n",
              "        text-align: right;\n",
              "    }\n",
              "</style>\n",
              "<table border=\"1\" class=\"dataframe\">\n",
              "  <thead>\n",
              "    <tr style=\"text-align: right;\">\n",
              "      <th></th>\n",
              "      <th>category</th>\n",
              "      <th>headline</th>\n",
              "      <th>short_description</th>\n",
              "    </tr>\n",
              "  </thead>\n",
              "  <tbody>\n",
              "    <tr>\n",
              "      <th>0</th>\n",
              "      <td>CRIME</td>\n",
              "      <td>There Were 2 Mass Shootings In Texas Last Week...</td>\n",
              "      <td>She left her husband. He killed their children...</td>\n",
              "    </tr>\n",
              "    <tr>\n",
              "      <th>1</th>\n",
              "      <td>ENTERTAINMENT</td>\n",
              "      <td>Will Smith Joins Diplo And Nicky Jam For The 2...</td>\n",
              "      <td>Of course it has a song.</td>\n",
              "    </tr>\n",
              "    <tr>\n",
              "      <th>2</th>\n",
              "      <td>ENTERTAINMENT</td>\n",
              "      <td>Hugh Grant Marries For The First Time At Age 57</td>\n",
              "      <td>The actor and his longtime girlfriend Anna Ebe...</td>\n",
              "    </tr>\n",
              "    <tr>\n",
              "      <th>3</th>\n",
              "      <td>ENTERTAINMENT</td>\n",
              "      <td>Jim Carrey Blasts 'Castrato' Adam Schiff And D...</td>\n",
              "      <td>The actor gives Dems an ass-kicking for not fi...</td>\n",
              "    </tr>\n",
              "    <tr>\n",
              "      <th>4</th>\n",
              "      <td>ENTERTAINMENT</td>\n",
              "      <td>Julianna Margulies Uses Donald Trump Poop Bags...</td>\n",
              "      <td>The \"Dietland\" actress said using the bags is ...</td>\n",
              "    </tr>\n",
              "    <tr>\n",
              "      <th>...</th>\n",
              "      <td>...</td>\n",
              "      <td>...</td>\n",
              "      <td>...</td>\n",
              "    </tr>\n",
              "    <tr>\n",
              "      <th>200848</th>\n",
              "      <td>TECH</td>\n",
              "      <td>RIM CEO Thorsten Heins' 'Significant' Plans Fo...</td>\n",
              "      <td>Verizon Wireless and AT&amp;T are already promotin...</td>\n",
              "    </tr>\n",
              "    <tr>\n",
              "      <th>200849</th>\n",
              "      <td>SPORTS</td>\n",
              "      <td>Maria Sharapova Stunned By Victoria Azarenka I...</td>\n",
              "      <td>Afterward, Azarenka, more effusive with the pr...</td>\n",
              "    </tr>\n",
              "    <tr>\n",
              "      <th>200850</th>\n",
              "      <td>SPORTS</td>\n",
              "      <td>Giants Over Patriots, Jets Over Colts Among  M...</td>\n",
              "      <td>Leading up to Super Bowl XLVI, the most talked...</td>\n",
              "    </tr>\n",
              "    <tr>\n",
              "      <th>200851</th>\n",
              "      <td>SPORTS</td>\n",
              "      <td>Aldon Smith Arrested: 49ers Linebacker Busted ...</td>\n",
              "      <td>CORRECTION: An earlier version of this story i...</td>\n",
              "    </tr>\n",
              "    <tr>\n",
              "      <th>200852</th>\n",
              "      <td>SPORTS</td>\n",
              "      <td>Dwight Howard Rips Teammates After Magic Loss ...</td>\n",
              "      <td>The five-time all-star center tore into his te...</td>\n",
              "    </tr>\n",
              "  </tbody>\n",
              "</table>\n",
              "<p>200853 rows × 3 columns</p>\n",
              "</div>"
            ],
            "text/plain": [
              "             category  ...                                  short_description\n",
              "0               CRIME  ...  She left her husband. He killed their children...\n",
              "1       ENTERTAINMENT  ...                           Of course it has a song.\n",
              "2       ENTERTAINMENT  ...  The actor and his longtime girlfriend Anna Ebe...\n",
              "3       ENTERTAINMENT  ...  The actor gives Dems an ass-kicking for not fi...\n",
              "4       ENTERTAINMENT  ...  The \"Dietland\" actress said using the bags is ...\n",
              "...               ...  ...                                                ...\n",
              "200848           TECH  ...  Verizon Wireless and AT&T are already promotin...\n",
              "200849         SPORTS  ...  Afterward, Azarenka, more effusive with the pr...\n",
              "200850         SPORTS  ...  Leading up to Super Bowl XLVI, the most talked...\n",
              "200851         SPORTS  ...  CORRECTION: An earlier version of this story i...\n",
              "200852         SPORTS  ...  The five-time all-star center tore into his te...\n",
              "\n",
              "[200853 rows x 3 columns]"
            ]
          },
          "metadata": {},
          "execution_count": 11
        }
      ]
    },
    {
      "cell_type": "code",
      "metadata": {
        "id": "I6Ud2awvY_ZC"
      },
      "source": [
        "data['news'] = data[['headline', 'short_description']].agg(' '.join, axis=1) #combining headline and short description columns into a single column called news"
      ],
      "execution_count": null,
      "outputs": []
    },
    {
      "cell_type": "code",
      "metadata": {
        "id": "3Cm-GxGaY_ZC"
      },
      "source": [
        "\n",
        "data.drop(['short_description', 'headline'], axis = 1, inplace = True)"
      ],
      "execution_count": null,
      "outputs": []
    },
    {
      "cell_type": "code",
      "metadata": {
        "colab": {
          "base_uri": "https://localhost:8080/",
          "height": 423
        },
        "id": "CZvwdTIIY_ZD",
        "outputId": "639b5cc8-5339-402d-a6cc-d2c160d16e5b"
      },
      "source": [
        "data"
      ],
      "execution_count": null,
      "outputs": [
        {
          "output_type": "execute_result",
          "data": {
            "text/html": [
              "<div>\n",
              "<style scoped>\n",
              "    .dataframe tbody tr th:only-of-type {\n",
              "        vertical-align: middle;\n",
              "    }\n",
              "\n",
              "    .dataframe tbody tr th {\n",
              "        vertical-align: top;\n",
              "    }\n",
              "\n",
              "    .dataframe thead th {\n",
              "        text-align: right;\n",
              "    }\n",
              "</style>\n",
              "<table border=\"1\" class=\"dataframe\">\n",
              "  <thead>\n",
              "    <tr style=\"text-align: right;\">\n",
              "      <th></th>\n",
              "      <th>category</th>\n",
              "      <th>news</th>\n",
              "    </tr>\n",
              "  </thead>\n",
              "  <tbody>\n",
              "    <tr>\n",
              "      <th>0</th>\n",
              "      <td>CRIME</td>\n",
              "      <td>There Were 2 Mass Shootings In Texas Last Week...</td>\n",
              "    </tr>\n",
              "    <tr>\n",
              "      <th>1</th>\n",
              "      <td>ENTERTAINMENT</td>\n",
              "      <td>Will Smith Joins Diplo And Nicky Jam For The 2...</td>\n",
              "    </tr>\n",
              "    <tr>\n",
              "      <th>2</th>\n",
              "      <td>ENTERTAINMENT</td>\n",
              "      <td>Hugh Grant Marries For The First Time At Age 5...</td>\n",
              "    </tr>\n",
              "    <tr>\n",
              "      <th>3</th>\n",
              "      <td>ENTERTAINMENT</td>\n",
              "      <td>Jim Carrey Blasts 'Castrato' Adam Schiff And D...</td>\n",
              "    </tr>\n",
              "    <tr>\n",
              "      <th>4</th>\n",
              "      <td>ENTERTAINMENT</td>\n",
              "      <td>Julianna Margulies Uses Donald Trump Poop Bags...</td>\n",
              "    </tr>\n",
              "    <tr>\n",
              "      <th>...</th>\n",
              "      <td>...</td>\n",
              "      <td>...</td>\n",
              "    </tr>\n",
              "    <tr>\n",
              "      <th>200848</th>\n",
              "      <td>TECH</td>\n",
              "      <td>RIM CEO Thorsten Heins' 'Significant' Plans Fo...</td>\n",
              "    </tr>\n",
              "    <tr>\n",
              "      <th>200849</th>\n",
              "      <td>SPORTS</td>\n",
              "      <td>Maria Sharapova Stunned By Victoria Azarenka I...</td>\n",
              "    </tr>\n",
              "    <tr>\n",
              "      <th>200850</th>\n",
              "      <td>SPORTS</td>\n",
              "      <td>Giants Over Patriots, Jets Over Colts Among  M...</td>\n",
              "    </tr>\n",
              "    <tr>\n",
              "      <th>200851</th>\n",
              "      <td>SPORTS</td>\n",
              "      <td>Aldon Smith Arrested: 49ers Linebacker Busted ...</td>\n",
              "    </tr>\n",
              "    <tr>\n",
              "      <th>200852</th>\n",
              "      <td>SPORTS</td>\n",
              "      <td>Dwight Howard Rips Teammates After Magic Loss ...</td>\n",
              "    </tr>\n",
              "  </tbody>\n",
              "</table>\n",
              "<p>200853 rows × 2 columns</p>\n",
              "</div>"
            ],
            "text/plain": [
              "             category                                               news\n",
              "0               CRIME  There Were 2 Mass Shootings In Texas Last Week...\n",
              "1       ENTERTAINMENT  Will Smith Joins Diplo And Nicky Jam For The 2...\n",
              "2       ENTERTAINMENT  Hugh Grant Marries For The First Time At Age 5...\n",
              "3       ENTERTAINMENT  Jim Carrey Blasts 'Castrato' Adam Schiff And D...\n",
              "4       ENTERTAINMENT  Julianna Margulies Uses Donald Trump Poop Bags...\n",
              "...               ...                                                ...\n",
              "200848           TECH  RIM CEO Thorsten Heins' 'Significant' Plans Fo...\n",
              "200849         SPORTS  Maria Sharapova Stunned By Victoria Azarenka I...\n",
              "200850         SPORTS  Giants Over Patriots, Jets Over Colts Among  M...\n",
              "200851         SPORTS  Aldon Smith Arrested: 49ers Linebacker Busted ...\n",
              "200852         SPORTS  Dwight Howard Rips Teammates After Magic Loss ...\n",
              "\n",
              "[200853 rows x 2 columns]"
            ]
          },
          "metadata": {},
          "execution_count": 14
        }
      ]
    },
    {
      "cell_type": "code",
      "metadata": {
        "id": "xP-mYsXgY_ZE"
      },
      "source": [
        "data['words_length'] = data.news.apply(lambda i: len(i.split(\" \")))\n",
        "data = data[data.words_length >= 5]"
      ],
      "execution_count": null,
      "outputs": []
    },
    {
      "cell_type": "code",
      "metadata": {
        "colab": {
          "base_uri": "https://localhost:8080/",
          "height": 300
        },
        "id": "JlGDNOLNY_ZF",
        "outputId": "492759a2-f10b-4c41-ab55-3bc29148469f"
      },
      "source": [
        "data.describe()"
      ],
      "execution_count": null,
      "outputs": [
        {
          "output_type": "execute_result",
          "data": {
            "text/html": [
              "<div>\n",
              "<style scoped>\n",
              "    .dataframe tbody tr th:only-of-type {\n",
              "        vertical-align: middle;\n",
              "    }\n",
              "\n",
              "    .dataframe tbody tr th {\n",
              "        vertical-align: top;\n",
              "    }\n",
              "\n",
              "    .dataframe thead th {\n",
              "        text-align: right;\n",
              "    }\n",
              "</style>\n",
              "<table border=\"1\" class=\"dataframe\">\n",
              "  <thead>\n",
              "    <tr style=\"text-align: right;\">\n",
              "      <th></th>\n",
              "      <th>words_length</th>\n",
              "    </tr>\n",
              "  </thead>\n",
              "  <tbody>\n",
              "    <tr>\n",
              "      <th>count</th>\n",
              "      <td>200367.000000</td>\n",
              "    </tr>\n",
              "    <tr>\n",
              "      <th>mean</th>\n",
              "      <td>29.448557</td>\n",
              "    </tr>\n",
              "    <tr>\n",
              "      <th>std</th>\n",
              "      <td>13.905755</td>\n",
              "    </tr>\n",
              "    <tr>\n",
              "      <th>min</th>\n",
              "      <td>5.000000</td>\n",
              "    </tr>\n",
              "    <tr>\n",
              "      <th>25%</th>\n",
              "      <td>20.000000</td>\n",
              "    </tr>\n",
              "    <tr>\n",
              "      <th>50%</th>\n",
              "      <td>28.000000</td>\n",
              "    </tr>\n",
              "    <tr>\n",
              "      <th>75%</th>\n",
              "      <td>35.000000</td>\n",
              "    </tr>\n",
              "    <tr>\n",
              "      <th>max</th>\n",
              "      <td>245.000000</td>\n",
              "    </tr>\n",
              "  </tbody>\n",
              "</table>\n",
              "</div>"
            ],
            "text/plain": [
              "        words_length\n",
              "count  200367.000000\n",
              "mean       29.448557\n",
              "std        13.905755\n",
              "min         5.000000\n",
              "25%        20.000000\n",
              "50%        28.000000\n",
              "75%        35.000000\n",
              "max       245.000000"
            ]
          },
          "metadata": {},
          "execution_count": 16
        }
      ]
    },
    {
      "cell_type": "code",
      "metadata": {
        "colab": {
          "base_uri": "https://localhost:8080/"
        },
        "id": "jGIoyWBbY_ZF",
        "outputId": "a0e00ca2-9f16-48c3-9a88-3f503a846dc0"
      },
      "source": [
        "data = data[data['category'].map(data['category'].value_counts()) > 3000]\n",
        "\n",
        "data.category = data.category.map(lambda x: \"WORLDPOST\" if x == \"THE WORLDPOST\" else x)"
      ],
      "execution_count": null,
      "outputs": [
        {
          "output_type": "stream",
          "name": "stderr",
          "text": [
            "/usr/local/lib/python3.7/dist-packages/pandas/core/generic.py:5170: SettingWithCopyWarning: \n",
            "A value is trying to be set on a copy of a slice from a DataFrame.\n",
            "Try using .loc[row_indexer,col_indexer] = value instead\n",
            "\n",
            "See the caveats in the documentation: https://pandas.pydata.org/pandas-docs/stable/user_guide/indexing.html#returning-a-view-versus-a-copy\n",
            "  self[name] = value\n"
          ]
        }
      ]
    },
    {
      "cell_type": "code",
      "metadata": {
        "colab": {
          "base_uri": "https://localhost:8080/",
          "height": 423
        },
        "id": "wChR1E1UY_ZF",
        "outputId": "e1d94a70-4fe0-4066-b04f-eb981053f901"
      },
      "source": [
        "data"
      ],
      "execution_count": null,
      "outputs": [
        {
          "output_type": "execute_result",
          "data": {
            "text/html": [
              "<div>\n",
              "<style scoped>\n",
              "    .dataframe tbody tr th:only-of-type {\n",
              "        vertical-align: middle;\n",
              "    }\n",
              "\n",
              "    .dataframe tbody tr th {\n",
              "        vertical-align: top;\n",
              "    }\n",
              "\n",
              "    .dataframe thead th {\n",
              "        text-align: right;\n",
              "    }\n",
              "</style>\n",
              "<table border=\"1\" class=\"dataframe\">\n",
              "  <thead>\n",
              "    <tr style=\"text-align: right;\">\n",
              "      <th></th>\n",
              "      <th>category</th>\n",
              "      <th>news</th>\n",
              "      <th>words_length</th>\n",
              "    </tr>\n",
              "  </thead>\n",
              "  <tbody>\n",
              "    <tr>\n",
              "      <th>0</th>\n",
              "      <td>CRIME</td>\n",
              "      <td>There Were 2 Mass Shootings In Texas Last Week...</td>\n",
              "      <td>27</td>\n",
              "    </tr>\n",
              "    <tr>\n",
              "      <th>1</th>\n",
              "      <td>ENTERTAINMENT</td>\n",
              "      <td>Will Smith Joins Diplo And Nicky Jam For The 2...</td>\n",
              "      <td>20</td>\n",
              "    </tr>\n",
              "    <tr>\n",
              "      <th>2</th>\n",
              "      <td>ENTERTAINMENT</td>\n",
              "      <td>Hugh Grant Marries For The First Time At Age 5...</td>\n",
              "      <td>25</td>\n",
              "    </tr>\n",
              "    <tr>\n",
              "      <th>3</th>\n",
              "      <td>ENTERTAINMENT</td>\n",
              "      <td>Jim Carrey Blasts 'Castrato' Adam Schiff And D...</td>\n",
              "      <td>25</td>\n",
              "    </tr>\n",
              "    <tr>\n",
              "      <th>4</th>\n",
              "      <td>ENTERTAINMENT</td>\n",
              "      <td>Julianna Margulies Uses Donald Trump Poop Bags...</td>\n",
              "      <td>26</td>\n",
              "    </tr>\n",
              "    <tr>\n",
              "      <th>...</th>\n",
              "      <td>...</td>\n",
              "      <td>...</td>\n",
              "      <td>...</td>\n",
              "    </tr>\n",
              "    <tr>\n",
              "      <th>200839</th>\n",
              "      <td>ENTERTAINMENT</td>\n",
              "      <td>'Girl With the Dragon Tattoo' India Release Ca...</td>\n",
              "      <td>37</td>\n",
              "    </tr>\n",
              "    <tr>\n",
              "      <th>200849</th>\n",
              "      <td>SPORTS</td>\n",
              "      <td>Maria Sharapova Stunned By Victoria Azarenka I...</td>\n",
              "      <td>30</td>\n",
              "    </tr>\n",
              "    <tr>\n",
              "      <th>200850</th>\n",
              "      <td>SPORTS</td>\n",
              "      <td>Giants Over Patriots, Jets Over Colts Among  M...</td>\n",
              "      <td>41</td>\n",
              "    </tr>\n",
              "    <tr>\n",
              "      <th>200851</th>\n",
              "      <td>SPORTS</td>\n",
              "      <td>Aldon Smith Arrested: 49ers Linebacker Busted ...</td>\n",
              "      <td>28</td>\n",
              "    </tr>\n",
              "    <tr>\n",
              "      <th>200852</th>\n",
              "      <td>SPORTS</td>\n",
              "      <td>Dwight Howard Rips Teammates After Magic Loss ...</td>\n",
              "      <td>28</td>\n",
              "    </tr>\n",
              "  </tbody>\n",
              "</table>\n",
              "<p>163481 rows × 3 columns</p>\n",
              "</div>"
            ],
            "text/plain": [
              "             category  ... words_length\n",
              "0               CRIME  ...           27\n",
              "1       ENTERTAINMENT  ...           20\n",
              "2       ENTERTAINMENT  ...           25\n",
              "3       ENTERTAINMENT  ...           25\n",
              "4       ENTERTAINMENT  ...           26\n",
              "...               ...  ...          ...\n",
              "200839  ENTERTAINMENT  ...           37\n",
              "200849         SPORTS  ...           30\n",
              "200850         SPORTS  ...           41\n",
              "200851         SPORTS  ...           28\n",
              "200852         SPORTS  ...           28\n",
              "\n",
              "[163481 rows x 3 columns]"
            ]
          },
          "metadata": {},
          "execution_count": 18
        }
      ]
    },
    {
      "cell_type": "code",
      "metadata": {
        "colab": {
          "base_uri": "https://localhost:8080/"
        },
        "id": "PIIIIhIxY_ZG",
        "outputId": "2512ed36-9952-4827-947c-660f666ab192"
      },
      "source": [
        "data['category'].value_counts()"
      ],
      "execution_count": null,
      "outputs": [
        {
          "output_type": "execute_result",
          "data": {
            "text/plain": [
              "POLITICS          32669\n",
              "WELLNESS          17826\n",
              "ENTERTAINMENT     16036\n",
              "TRAVEL             9873\n",
              "STYLE & BEAUTY     9648\n",
              "PARENTING          8677\n",
              "HEALTHY LIVING     6631\n",
              "QUEER VOICES       6307\n",
              "FOOD & DRINK       6225\n",
              "BUSINESS           5919\n",
              "COMEDY             5060\n",
              "SPORTS             4875\n",
              "BLACK VOICES       4521\n",
              "HOME & LIVING      4194\n",
              "PARENTS            3951\n",
              "WORLDPOST          3664\n",
              "WEDDINGS           3651\n",
              "WOMEN              3478\n",
              "IMPACT             3451\n",
              "DIVORCE            3426\n",
              "CRIME              3399\n",
              "Name: category, dtype: int64"
            ]
          },
          "metadata": {},
          "execution_count": 19
        }
      ]
    },
    {
      "cell_type": "code",
      "metadata": {
        "id": "V5dU5XlvY_ZG"
      },
      "source": [
        "#shuffling the dataset to make the dataset uniform\n",
        "from sklearn.utils import shuffle\n",
        "df = shuffle(data)\n",
        "df.reset_index(inplace=True, drop=True) "
      ],
      "execution_count": null,
      "outputs": []
    },
    {
      "cell_type": "code",
      "metadata": {
        "colab": {
          "base_uri": "https://localhost:8080/",
          "height": 423
        },
        "id": "dwIbQ-6pY_ZH",
        "outputId": "30d1af7b-725a-4a86-e709-959236042b5b"
      },
      "source": [
        "df"
      ],
      "execution_count": null,
      "outputs": [
        {
          "output_type": "execute_result",
          "data": {
            "text/html": [
              "<div>\n",
              "<style scoped>\n",
              "    .dataframe tbody tr th:only-of-type {\n",
              "        vertical-align: middle;\n",
              "    }\n",
              "\n",
              "    .dataframe tbody tr th {\n",
              "        vertical-align: top;\n",
              "    }\n",
              "\n",
              "    .dataframe thead th {\n",
              "        text-align: right;\n",
              "    }\n",
              "</style>\n",
              "<table border=\"1\" class=\"dataframe\">\n",
              "  <thead>\n",
              "    <tr style=\"text-align: right;\">\n",
              "      <th></th>\n",
              "      <th>category</th>\n",
              "      <th>news</th>\n",
              "      <th>words_length</th>\n",
              "    </tr>\n",
              "  </thead>\n",
              "  <tbody>\n",
              "    <tr>\n",
              "      <th>0</th>\n",
              "      <td>SPORTS</td>\n",
              "      <td>The Presidential Debates Should Model Themselv...</td>\n",
              "      <td>23</td>\n",
              "    </tr>\n",
              "    <tr>\n",
              "      <th>1</th>\n",
              "      <td>WELLNESS</td>\n",
              "      <td>The Alchemy of Joy We hold the ability to chan...</td>\n",
              "      <td>37</td>\n",
              "    </tr>\n",
              "    <tr>\n",
              "      <th>2</th>\n",
              "      <td>WELLNESS</td>\n",
              "      <td>If You Lead a Student to Vegetables, Will They...</td>\n",
              "      <td>61</td>\n",
              "    </tr>\n",
              "    <tr>\n",
              "      <th>3</th>\n",
              "      <td>STYLE &amp; BEAUTY</td>\n",
              "      <td>Fashion's Night Out Ads: New York vs. Los Ange...</td>\n",
              "      <td>30</td>\n",
              "    </tr>\n",
              "    <tr>\n",
              "      <th>4</th>\n",
              "      <td>TRAVEL</td>\n",
              "      <td>Sparkling New Caribbean Resort Hotels for 2014...</td>\n",
              "      <td>42</td>\n",
              "    </tr>\n",
              "    <tr>\n",
              "      <th>...</th>\n",
              "      <td>...</td>\n",
              "      <td>...</td>\n",
              "      <td>...</td>\n",
              "    </tr>\n",
              "    <tr>\n",
              "      <th>163476</th>\n",
              "      <td>PARENTS</td>\n",
              "      <td>How Having Kids Helped Me Grow Up Having child...</td>\n",
              "      <td>56</td>\n",
              "    </tr>\n",
              "    <tr>\n",
              "      <th>163477</th>\n",
              "      <td>PARENTS</td>\n",
              "      <td>On Father's Day: 10 Lessons I Learned From My ...</td>\n",
              "      <td>51</td>\n",
              "    </tr>\n",
              "    <tr>\n",
              "      <th>163478</th>\n",
              "      <td>WELLNESS</td>\n",
              "      <td>Meditation Tips: Does Meditation Have to Be Se...</td>\n",
              "      <td>54</td>\n",
              "    </tr>\n",
              "    <tr>\n",
              "      <th>163479</th>\n",
              "      <td>POLITICS</td>\n",
              "      <td>Across The Board, The Trump Administration's D...</td>\n",
              "      <td>26</td>\n",
              "    </tr>\n",
              "    <tr>\n",
              "      <th>163480</th>\n",
              "      <td>STYLE &amp; BEAUTY</td>\n",
              "      <td>Match Your Underwear To Your Mood It's true wh...</td>\n",
              "      <td>31</td>\n",
              "    </tr>\n",
              "  </tbody>\n",
              "</table>\n",
              "<p>163481 rows × 3 columns</p>\n",
              "</div>"
            ],
            "text/plain": [
              "              category  ... words_length\n",
              "0               SPORTS  ...           23\n",
              "1             WELLNESS  ...           37\n",
              "2             WELLNESS  ...           61\n",
              "3       STYLE & BEAUTY  ...           30\n",
              "4               TRAVEL  ...           42\n",
              "...                ...  ...          ...\n",
              "163476         PARENTS  ...           56\n",
              "163477         PARENTS  ...           51\n",
              "163478        WELLNESS  ...           54\n",
              "163479        POLITICS  ...           26\n",
              "163480  STYLE & BEAUTY  ...           31\n",
              "\n",
              "[163481 rows x 3 columns]"
            ]
          },
          "metadata": {},
          "execution_count": 21
        }
      ]
    },
    {
      "cell_type": "code",
      "metadata": {
        "colab": {
          "base_uri": "https://localhost:8080/"
        },
        "id": "_lRZIvdJwf0x",
        "outputId": "2744d7dc-92ab-403d-829c-941fa9de28a0"
      },
      "source": [
        "!pip install contractions"
      ],
      "execution_count": null,
      "outputs": [
        {
          "output_type": "stream",
          "name": "stdout",
          "text": [
            "Collecting contractions\n",
            "  Downloading contractions-0.0.58-py2.py3-none-any.whl (8.0 kB)\n",
            "Collecting textsearch>=0.0.21\n",
            "  Downloading textsearch-0.0.21-py2.py3-none-any.whl (7.5 kB)\n",
            "Collecting anyascii\n",
            "  Downloading anyascii-0.3.0-py3-none-any.whl (284 kB)\n",
            "\u001b[K     |████████████████████████████████| 284 kB 5.3 MB/s \n",
            "\u001b[?25hCollecting pyahocorasick\n",
            "  Downloading pyahocorasick-1.4.2.tar.gz (321 kB)\n",
            "\u001b[K     |████████████████████████████████| 321 kB 36.8 MB/s \n",
            "\u001b[?25hBuilding wheels for collected packages: pyahocorasick\n",
            "  Building wheel for pyahocorasick (setup.py) ... \u001b[?25l\u001b[?25hdone\n",
            "  Created wheel for pyahocorasick: filename=pyahocorasick-1.4.2-cp37-cp37m-linux_x86_64.whl size=85446 sha256=cf8575268fa2cb5c9f2f7cc8427c670d630709d3ced22be22e17203f448aa474\n",
            "  Stored in directory: /root/.cache/pip/wheels/25/19/a6/8f363d9939162782bb8439d886469756271abc01f76fbd790f\n",
            "Successfully built pyahocorasick\n",
            "Installing collected packages: pyahocorasick, anyascii, textsearch, contractions\n",
            "Successfully installed anyascii-0.3.0 contractions-0.0.58 pyahocorasick-1.4.2 textsearch-0.0.21\n"
          ]
        }
      ]
    },
    {
      "cell_type": "code",
      "metadata": {
        "colab": {
          "base_uri": "https://localhost:8080/"
        },
        "id": "_77pl7TUwf_X",
        "outputId": "c7567be4-b84b-4b78-8ce3-d2bbf6633771"
      },
      "source": [
        "!pip install regex"
      ],
      "execution_count": null,
      "outputs": [
        {
          "output_type": "stream",
          "name": "stdout",
          "text": [
            "Requirement already satisfied: regex in /usr/local/lib/python3.7/dist-packages (2019.12.20)\n"
          ]
        }
      ]
    },
    {
      "cell_type": "markdown",
      "source": [
        "                                     # Data preprocessing "
      ],
      "metadata": {
        "id": "hxfEYfds5LtG"
      }
    },
    {
      "cell_type": "code",
      "metadata": {
        "id": "9tPb0cp3pCt5"
      },
      "source": [
        "#importing contractions and regex libraries\n",
        "import contractions\n",
        "from tqdm import tqdm\n",
        "import nltk\n",
        "import regex as re"
      ],
      "execution_count": null,
      "outputs": []
    },
    {
      "cell_type": "code",
      "metadata": {
        "colab": {
          "base_uri": "https://localhost:8080/"
        },
        "id": "aQVSwChSpCw_",
        "outputId": "dc6cc690-6372-4563-b78f-38a9029849a6"
      },
      "source": [
        "\n",
        "clean_reviews=[]\n",
        "for i in tqdm(df['news']):\n",
        "    #Rremoving the html tags from the news column\n",
        "    i=re.sub('(<[\\w\\s]*/?>)',\"\",i)\n",
        "    #Expanding  the contractions i.e for example I'll will be expanded as I will\n",
        "    i=contractions.fix(i)\n",
        "    #Removing the special characters from the news \n",
        "    i=re.sub('[^a-zA-Z0-9\\s]+',\"\",i)\n",
        "    #Removing  the digits from the news. We do not need numerical data to classify news\n",
        "    i=re.sub('\\d+',\"\",i)\n",
        "    #Converting the higher case letters to lowe r case letters\n",
        "    i=i.lower()\n",
        "    \n",
        "    clean_reviews.append(i)"
      ],
      "execution_count": null,
      "outputs": [
        {
          "output_type": "stream",
          "name": "stderr",
          "text": [
            "100%|██████████| 163481/163481 [00:07<00:00, 20722.23it/s]\n"
          ]
        }
      ]
    },
    {
      "cell_type": "code",
      "metadata": {
        "id": "b8cOCZxEpCzw"
      },
      "source": [
        "\n",
        "df=pd.DataFrame({'news':clean_reviews,'category':list(df['category']),'words_length':list(df['words_length'])})"
      ],
      "execution_count": null,
      "outputs": []
    },
    {
      "cell_type": "code",
      "metadata": {
        "id": "buxXrNdspC2r"
      },
      "source": [
        "df['words_length'] = df.news.apply(lambda i: len(i.split(\" \")))\n",
        "df = df[df.words_length >= 5]"
      ],
      "execution_count": null,
      "outputs": []
    },
    {
      "cell_type": "code",
      "metadata": {
        "colab": {
          "base_uri": "https://localhost:8080/",
          "height": 423
        },
        "id": "2Dd-65lHyTkS",
        "outputId": "868986c7-b4ad-4e9e-d086-3aed2ec189d9"
      },
      "source": [
        "df"
      ],
      "execution_count": null,
      "outputs": [
        {
          "output_type": "execute_result",
          "data": {
            "text/html": [
              "<div>\n",
              "<style scoped>\n",
              "    .dataframe tbody tr th:only-of-type {\n",
              "        vertical-align: middle;\n",
              "    }\n",
              "\n",
              "    .dataframe tbody tr th {\n",
              "        vertical-align: top;\n",
              "    }\n",
              "\n",
              "    .dataframe thead th {\n",
              "        text-align: right;\n",
              "    }\n",
              "</style>\n",
              "<table border=\"1\" class=\"dataframe\">\n",
              "  <thead>\n",
              "    <tr style=\"text-align: right;\">\n",
              "      <th></th>\n",
              "      <th>news</th>\n",
              "      <th>category</th>\n",
              "      <th>words_length</th>\n",
              "    </tr>\n",
              "  </thead>\n",
              "  <tbody>\n",
              "    <tr>\n",
              "      <th>0</th>\n",
              "      <td>the presidential debates should model themselv...</td>\n",
              "      <td>SPORTS</td>\n",
              "      <td>23</td>\n",
              "    </tr>\n",
              "    <tr>\n",
              "      <th>1</th>\n",
              "      <td>the alchemy of joy we hold the ability to chan...</td>\n",
              "      <td>WELLNESS</td>\n",
              "      <td>37</td>\n",
              "    </tr>\n",
              "    <tr>\n",
              "      <th>2</th>\n",
              "      <td>if you lead a student to vegetables will they ...</td>\n",
              "      <td>WELLNESS</td>\n",
              "      <td>61</td>\n",
              "    </tr>\n",
              "    <tr>\n",
              "      <th>3</th>\n",
              "      <td>fashions night out ads new york vs los angeles...</td>\n",
              "      <td>STYLE &amp; BEAUTY</td>\n",
              "      <td>30</td>\n",
              "    </tr>\n",
              "    <tr>\n",
              "      <th>4</th>\n",
              "      <td>sparkling new caribbean resort hotels for  if ...</td>\n",
              "      <td>TRAVEL</td>\n",
              "      <td>43</td>\n",
              "    </tr>\n",
              "    <tr>\n",
              "      <th>...</th>\n",
              "      <td>...</td>\n",
              "      <td>...</td>\n",
              "      <td>...</td>\n",
              "    </tr>\n",
              "    <tr>\n",
              "      <th>163476</th>\n",
              "      <td>how having kids helped me grow up having child...</td>\n",
              "      <td>PARENTS</td>\n",
              "      <td>56</td>\n",
              "    </tr>\n",
              "    <tr>\n",
              "      <th>163477</th>\n",
              "      <td>on fathers day  lessons i learned from my gran...</td>\n",
              "      <td>PARENTS</td>\n",
              "      <td>51</td>\n",
              "    </tr>\n",
              "    <tr>\n",
              "      <th>163478</th>\n",
              "      <td>meditation tips does meditation have to be ser...</td>\n",
              "      <td>WELLNESS</td>\n",
              "      <td>55</td>\n",
              "    </tr>\n",
              "    <tr>\n",
              "      <th>163479</th>\n",
              "      <td>across the board the trump administrations der...</td>\n",
              "      <td>POLITICS</td>\n",
              "      <td>26</td>\n",
              "    </tr>\n",
              "    <tr>\n",
              "      <th>163480</th>\n",
              "      <td>match your underwear to your mood it is true w...</td>\n",
              "      <td>STYLE &amp; BEAUTY</td>\n",
              "      <td>32</td>\n",
              "    </tr>\n",
              "  </tbody>\n",
              "</table>\n",
              "<p>163481 rows × 3 columns</p>\n",
              "</div>"
            ],
            "text/plain": [
              "                                                     news  ... words_length\n",
              "0       the presidential debates should model themselv...  ...           23\n",
              "1       the alchemy of joy we hold the ability to chan...  ...           37\n",
              "2       if you lead a student to vegetables will they ...  ...           61\n",
              "3       fashions night out ads new york vs los angeles...  ...           30\n",
              "4       sparkling new caribbean resort hotels for  if ...  ...           43\n",
              "...                                                   ...  ...          ...\n",
              "163476  how having kids helped me grow up having child...  ...           56\n",
              "163477  on fathers day  lessons i learned from my gran...  ...           51\n",
              "163478  meditation tips does meditation have to be ser...  ...           55\n",
              "163479  across the board the trump administrations der...  ...           26\n",
              "163480  match your underwear to your mood it is true w...  ...           32\n",
              "\n",
              "[163481 rows x 3 columns]"
            ]
          },
          "metadata": {},
          "execution_count": 102
        }
      ]
    },
    {
      "cell_type": "code",
      "metadata": {
        "id": "vKT7AFWDyTqB"
      },
      "source": [
        ""
      ],
      "execution_count": null,
      "outputs": []
    },
    {
      "cell_type": "code",
      "metadata": {
        "id": "y2VPZyhxY_ZI"
      },
      "source": [
        "vocab_size =20000\n",
        "max_length = 35\n",
        "trunc_type='post'\n",
        "padding_type='post'\n",
        "oov_tok = \"<OOV>\""
      ],
      "execution_count": null,
      "outputs": []
    },
    {
      "cell_type": "code",
      "metadata": {
        "id": "fO4qsqOpY_ZJ"
      },
      "source": [
        ""
      ],
      "execution_count": null,
      "outputs": []
    },
    {
      "cell_type": "code",
      "metadata": {
        "id": "yr7MOx4cY_ZK"
      },
      "source": [
        "#encoding the labels of the dataset\n",
        "from sklearn.preprocessing import LabelEncoder as lencoder\n",
        "\n",
        "le = lencoder()\n",
        "labels = le.fit_transform(df['category'])"
      ],
      "execution_count": null,
      "outputs": []
    },
    {
      "cell_type": "code",
      "metadata": {
        "colab": {
          "base_uri": "https://localhost:8080/"
        },
        "id": "K7TRsOQLY_ZK",
        "outputId": "2232576e-5576-4633-ef28-56166120a230"
      },
      "source": [
        "labels"
      ],
      "execution_count": null,
      "outputs": [
        {
          "output_type": "execute_result",
          "data": {
            "text/plain": [
              "array([14, 18, 18, ..., 18, 12, 15])"
            ]
          },
          "metadata": {},
          "execution_count": 105
        }
      ]
    },
    {
      "cell_type": "code",
      "metadata": {
        "id": "uKk8LTCDY_ZK"
      },
      "source": [
        "#changing the labels to categorical\n",
        "from tensorflow.keras.utils import to_categorical\n",
        "labels= to_categorical(labels,num_classes=21)"
      ],
      "execution_count": null,
      "outputs": []
    },
    {
      "cell_type": "code",
      "metadata": {
        "colab": {
          "base_uri": "https://localhost:8080/"
        },
        "id": "GOlwIygHY_ZL",
        "outputId": "46f26fa0-bf55-4d1a-fc78-479e65e1878b"
      },
      "source": [
        "labels"
      ],
      "execution_count": null,
      "outputs": [
        {
          "output_type": "execute_result",
          "data": {
            "text/plain": [
              "array([[0., 0., 0., ..., 0., 0., 0.],\n",
              "       [0., 0., 0., ..., 1., 0., 0.],\n",
              "       [0., 0., 0., ..., 1., 0., 0.],\n",
              "       ...,\n",
              "       [0., 0., 0., ..., 1., 0., 0.],\n",
              "       [0., 0., 0., ..., 0., 0., 0.],\n",
              "       [0., 0., 0., ..., 0., 0., 0.]], dtype=float32)"
            ]
          },
          "metadata": {},
          "execution_count": 107
        }
      ]
    },
    {
      "cell_type": "code",
      "metadata": {
        "id": "6dJ_8uuFY_ZL"
      },
      "source": [
        "#Tokenizing the data\n",
        "X,Y = df['news'],df['category']\n",
        "tokenizer = tf.keras.preprocessing.text.Tokenizer(num_words = vocab_size, oov_token=oov_tok)\n",
        "tokenizer.fit_on_texts(X)\n",
        "\n",
        "word_index = tokenizer.word_index\n",
        "\n",
        "X = tokenizer.texts_to_sequences(X)\n",
        "X = pad_sequences(X, maxlen= max_length, padding=padding_type, truncating=trunc_type)"
      ],
      "execution_count": null,
      "outputs": []
    },
    {
      "cell_type": "code",
      "metadata": {
        "colab": {
          "base_uri": "https://localhost:8080/"
        },
        "id": "bEv6jyz4Y_ZL",
        "outputId": "fe2017ea-7730-4446-f2d3-1a0e93b6a77d"
      },
      "source": [
        "X"
      ],
      "execution_count": null,
      "outputs": [
        {
          "output_type": "execute_result",
          "data": {
            "text/plain": [
              "array([[   2,  399, 3391, ...,    0,    0,    0],\n",
              "       [   2,    1,    5, ..., 4679,   38, 1973],\n",
              "       [  54,   10,  549, ...,    6, 4096,  283],\n",
              "       ...,\n",
              "       [ 895,  260,  103, ...,   98,  182,    4],\n",
              "       [ 521,    2, 1260, ...,    0,    0,    0],\n",
              "       [2037,   20, 3699, ...,    0,    0,    0]], dtype=int32)"
            ]
          },
          "metadata": {},
          "execution_count": 109
        }
      ]
    },
    {
      "cell_type": "code",
      "metadata": {
        "id": "7cbFKCXbY_ZL"
      },
      "source": [
        "#Splitting the train, test and validation sets\n",
        "X_train, X_val, y_train, y_val = train_test_split(X, labels, test_size=0.2, random_state=42,stratify=labels)\n",
        "X_val, X_test , y_val, y_test= train_test_split(X_val,y_val, test_size=0.5, random_state=42)"
      ],
      "execution_count": null,
      "outputs": []
    },
    {
      "cell_type": "code",
      "metadata": {
        "colab": {
          "base_uri": "https://localhost:8080/"
        },
        "id": "dcT5WpNHY_ZM",
        "outputId": "11612b15-7e6b-4caa-cf2e-d43ba95d72e0"
      },
      "source": [
        "X_train"
      ],
      "execution_count": null,
      "outputs": [
        {
          "output_type": "execute_result",
          "data": {
            "text/plain": [
              "array([[  661,   882,   820, ...,     0,     0,     0],\n",
              "       [ 1274,     1,  3682, ...,     0,     0,     0],\n",
              "       [   27,   129,   737, ...,   119,  1145,     3],\n",
              "       ...,\n",
              "       [ 1576,     8, 12143, ...,     3,     2,   341],\n",
              "       [ 5949,    35,    30, ...,    33,    35,   103],\n",
              "       [11622, 14717,  1284, ...,    26,  1965,     0]], dtype=int32)"
            ]
          },
          "metadata": {},
          "execution_count": 179
        }
      ]
    },
    {
      "cell_type": "code",
      "metadata": {
        "colab": {
          "base_uri": "https://localhost:8080/"
        },
        "id": "HZOAv8oVY_ZM",
        "outputId": "0a6d33e9-6745-46ca-cfb4-9896eb4a9b58"
      },
      "source": [
        "X_val"
      ],
      "execution_count": null,
      "outputs": [
        {
          "output_type": "execute_result",
          "data": {
            "text/plain": [
              "array([[12111,    81,   122, ...,     0,     0,     0],\n",
              "       [ 4868,   318,  3587, ...,   378,     3,    36],\n",
              "       [ 1337,     1,    23, ...,   198,    29,    62],\n",
              "       ...,\n",
              "       [   68, 10626,   173, ...,  2572,   316,     0],\n",
              "       [ 2113,  6716,   862, ...,     0,     0,     0],\n",
              "       [ 2506,     1, 18458, ...,     5,   241,  4566]], dtype=int32)"
            ]
          },
          "metadata": {},
          "execution_count": 180
        }
      ]
    },
    {
      "cell_type": "code",
      "metadata": {
        "id": "CRivI8ccY_ZM"
      },
      "source": [
        "num_words=20000\n",
        "embeddings=300"
      ],
      "execution_count": null,
      "outputs": []
    },
    {
      "cell_type": "code",
      "metadata": {
        "id": "z6ui5psJY_ZM"
      },
      "source": [
        "from keras.layers import Embedding,Conv1D,LSTM,GRU,BatchNormalization,Flatten,Dense\n",
        "from tensorflow.keras.layers import *\n",
        "from tensorflow.keras.models import *"
      ],
      "execution_count": null,
      "outputs": []
    },
    {
      "cell_type": "code",
      "metadata": {
        "id": "JcIQGTOSY_ZN"
      },
      "source": [
        "\n",
        "# Building the LSTM model\n",
        "model= Sequential()\n",
        "model.add(Embedding(num_words,embeddings,input_length=max_length))\n",
        "model.add(keras.layers.Bidirectional(LSTM(256,return_sequences=True)))\n",
        "model.add(keras.layers.Dropout(0.4))\n",
        "model.add(keras.layers.GRU(256))\n",
        "model.add(keras.layers.Dropout(0.4))\n",
        "model.add(Dense(64, activation='relu'))\n",
        "model.add(keras.layers.Dropout(0.2))\n",
        "model.add(Dense(21,activation='softmax'))"
      ],
      "execution_count": null,
      "outputs": []
    },
    {
      "cell_type": "code",
      "metadata": {
        "colab": {
          "base_uri": "https://localhost:8080/"
        },
        "id": "BoW93MnlY_ZN",
        "outputId": "8e7451ff-cd0f-429c-c047-a53819271759"
      },
      "source": [
        "model.summary()"
      ],
      "execution_count": null,
      "outputs": [
        {
          "output_type": "stream",
          "name": "stdout",
          "text": [
            "Model: \"sequential_15\"\n",
            "_________________________________________________________________\n",
            " Layer (type)                Output Shape              Param #   \n",
            "=================================================================\n",
            " embedding_15 (Embedding)    (None, 35, 300)           6000000   \n",
            "                                                                 \n",
            " bidirectional_22 (Bidirecti  (None, 35, 512)          1140736   \n",
            " onal)                                                           \n",
            "                                                                 \n",
            " dropout_27 (Dropout)        (None, 35, 512)           0         \n",
            "                                                                 \n",
            " gru_2 (GRU)                 (None, 256)               591360    \n",
            "                                                                 \n",
            " dropout_28 (Dropout)        (None, 256)               0         \n",
            "                                                                 \n",
            " dense_22 (Dense)            (None, 64)                16448     \n",
            "                                                                 \n",
            " dropout_29 (Dropout)        (None, 64)                0         \n",
            "                                                                 \n",
            " dense_23 (Dense)            (None, 21)                1365      \n",
            "                                                                 \n",
            "=================================================================\n",
            "Total params: 7,749,909\n",
            "Trainable params: 7,749,909\n",
            "Non-trainable params: 0\n",
            "_________________________________________________________________\n"
          ]
        }
      ]
    },
    {
      "cell_type": "code",
      "metadata": {
        "id": "hflGQM2BY_ZN"
      },
      "source": [
        "opt = keras.optimizers.Adam(learning_rate=0.001)\n",
        "model.compile(loss=\"categorical_crossentropy\",\n",
        "              optimizer=opt,\n",
        "              metrics=['accuracy']\n",
        "             )"
      ],
      "execution_count": null,
      "outputs": []
    },
    {
      "cell_type": "code",
      "metadata": {
        "colab": {
          "base_uri": "https://localhost:8080/"
        },
        "id": "qkS4iZOCY_ZO",
        "outputId": "f08715fc-3816-4862-d9d4-dfd53c5bf833"
      },
      "source": [
        "#checking if the GPU is available or not\n",
        "import tensorflow as tf\n",
        "tf.config.list_physical_devices('GPU')"
      ],
      "execution_count": null,
      "outputs": [
        {
          "output_type": "execute_result",
          "data": {
            "text/plain": [
              "[PhysicalDevice(name='/physical_device:GPU:0', device_type='GPU')]"
            ]
          },
          "metadata": {},
          "execution_count": 241
        }
      ]
    },
    {
      "cell_type": "code",
      "metadata": {
        "id": "9oXqS7XMzPkN"
      },
      "source": [
        "#Implementing the early stopping as callback so that the model won't overfit\n",
        "early_stop=tf.keras.callbacks.EarlyStopping(monitor='val_loss', \n",
        "                                            patience=3, min_delta=0.0001)"
      ],
      "execution_count": null,
      "outputs": []
    },
    {
      "cell_type": "code",
      "metadata": {
        "id": "-TNuvA2CzPsw"
      },
      "source": [
        ""
      ],
      "execution_count": null,
      "outputs": []
    },
    {
      "cell_type": "code",
      "metadata": {
        "id": "Vv2knRSkY_ZP"
      },
      "source": [
        "#Training the model\n",
        "history = model.fit( X_train,y_train,validation_data=(X_val,y_val), epochs=10, batch_size=32,steps_per_epoch=len(X_train) // 32,validation_steps = len(X_val)//32, callbacks=early_stop) "
      ],
      "execution_count": null,
      "outputs": []
    },
    {
      "cell_type": "code",
      "source": [
        "#testing the model\n",
        "score, acc = model.evaluate(X_test, y_test)"
      ],
      "metadata": {
        "colab": {
          "base_uri": "https://localhost:8080/"
        },
        "id": "l_JKBQx-1N7R",
        "outputId": "8f3d291c-423b-48ea-cd8a-e4b9857a0ce1"
      },
      "execution_count": 2,
      "outputs": [
        {
          "output_type": "stream",
          "name": "stdout",
          "text": [
            "511/511 [==============================] - 10s 20ms/step - loss: 1.1629 - accuracy: 0.7247\n"
          ]
        }
      ]
    },
    {
      "cell_type": "code",
      "source": [
        "#Plotting the Loss and Accuracy graphs\n",
        "fig = plt.figure(figsize=(5,5))\n",
        "plt.subplot(221)\n",
        "plt.plot(history.history['accuracy'],'bo-', label = \"acc\")\n",
        "plt.plot(history.history['val_accuracy'], 'ro-', label = \"val_acc\")\n",
        "plt.title(\"train_accuracy vs val_accuracy\")\n",
        "plt.ylabel(\"accuracy\")\n",
        "plt.xlabel(\"epochs\")\n",
        "plt.grid(True)\n",
        "plt.legend()\n",
        "\n",
        "plt.subplot(222)\n",
        "plt.plot(history.history['loss'],'bo-', label = \"loss\")\n",
        "plt.plot(history.history['val_loss'], 'ro-', label = \"val_loss\")\n",
        "plt.title(\"train_loss vs val_loss\")\n",
        "plt.ylabel(\"loss\")\n",
        "plt.xlabel(\"epochs\")\n",
        "plt.grid(True)\n",
        "plt.legend()"
      ],
      "metadata": {
        "colab": {
          "base_uri": "https://localhost:8080/",
          "height": 230
        },
        "id": "3ywMUtIm2F7f",
        "outputId": "ba33b4b6-12dd-4494-e4fc-39865cf81f2c"
      },
      "execution_count": 9,
      "outputs": [
        {
          "output_type": "display_data",
          "data": {
            "image/png": "[encoded data removed]",
            "text/plain": [
              "<Figure size 432x288 with 1 Axes>"
            ]
          },
          "metadata": {
            "needs_background": "light"
          }
        },
        {
          "output_type": "display_data",
          "data": {
            "text/plain": [
              "<Figure size 720x720 with 0 Axes>"
            ]
          },
          "metadata": {}
        }
      ]
    }
  ]
}